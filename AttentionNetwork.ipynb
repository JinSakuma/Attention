{
 "cells": [
  {
   "cell_type": "code",
   "execution_count": 1,
   "metadata": {},
   "outputs": [],
   "source": [
    "import torch\n",
    "import torch.nn as nn\n",
    "import torchvision\n",
    "from torchvision.models import resnet34, resnet18\n",
    "import torch.nn.functional as F\n",
    "import torchvision.transforms as transforms\n",
    "import numpy as np\n",
    "import os\n",
    "import cv2\n",
    "from tqdm import tqdm\n",
    "import matplotlib.pyplot as plt\n",
    "\n",
    "%matplotlib inline"
   ]
  },
  {
   "cell_type": "code",
   "execution_count": 2,
   "metadata": {},
   "outputs": [],
   "source": [
    "train_preprocess = transforms.Compose([\n",
    "    transforms.Resize((224, 224)),\n",
    "    transforms.ToTensor(),\n",
    "    transforms.Normalize(mean=[0.485, 0.456, 0.406], std=[0.229, 0.224, 0.225])\n",
    "])\n",
    "\n",
    "test_preprocess = transforms.Compose([\n",
    "    transforms.Resize((224, 224)),\n",
    "    transforms.ToTensor(),\n",
    "    transforms.Normalize(mean=[0.485, 0.456, 0.406], std=[0.229, 0.224, 0.225])\n",
    "])\n",
    "\n",
    "dataset_train = torchvision.datasets.ImageFolder(root='./data/train', transform=train_preprocess)\n",
    "loader_train = torch.utils.data.DataLoader(dataset_train,\n",
    "                                           batch_size=64,\n",
    "                                           shuffle=True,\n",
    "#                                            num_workers=4\n",
    "                                          ) \n",
    "\n",
    "dataset_test = torchvision.datasets.ImageFolder(root='./data/test', transform=test_preprocess)\n",
    "loader_test = torch.utils.data.DataLoader(dataset_test,\n",
    "                                          batch_size=64,\n",
    "                                          shuffle=True,\n",
    "#                                           num_workers=4\n",
    "                                         ) "
   ]
  },
  {
   "cell_type": "code",
   "execution_count": 3,
   "metadata": {},
   "outputs": [],
   "source": [
    "class Network(nn.Module):\n",
    "    def __init__(self, num_classes):\n",
    "        super().__init__()\n",
    "\n",
    "        self.base_model = resnet18(pretrained=True)\n",
    "        self.base_model.fc = nn.Linear(512, num_classes)\n",
    "\n",
    "    def forward(self, x):       \n",
    "        return self.base_model(x)"
   ]
  },
  {
   "cell_type": "code",
   "execution_count": 4,
   "metadata": {},
   "outputs": [],
   "source": [
    "class AttentionNetwork(nn.Module):\n",
    "    def __init__(self, num_classes):\n",
    "        super().__init__()\n",
    "\n",
    "        base_model = resnet18(pretrained=True)\n",
    "        self.features = nn.Sequential(*[layer for layer in base_model.children()][:-2])\n",
    "        self.attn_conv = nn.Sequential(\n",
    "            nn.Conv2d(512, 1, 1),\n",
    "            nn.Sigmoid()\n",
    "        )\n",
    "        self.fc = nn.Sequential(\n",
    "            nn.Dropout(0.5),\n",
    "            nn.Linear(512, num_classes)\n",
    "        )\n",
    "        self.mask_ = None\n",
    "\n",
    "    def forward(self, x):\n",
    "        x = self.features(x)\n",
    "        \n",
    "        attn = self.attn_conv(x)  # [B, 1, H, W]\n",
    "        B, _, H, W = attn.shape\n",
    "        self.mask_ = attn.detach().cpu()\n",
    "\n",
    "        x = x * attn\n",
    "        x = F.adaptive_avg_pool2d(x, (1, 1))\n",
    "        x = x.reshape(B, -1)\n",
    "        \n",
    "        return self.fc(x)\n",
    "    \n",
    "    def make_cam(self, img, mask):\n",
    "        cam = cv2.resize(mask, (224, 224))\n",
    "        heatmap = (cam - np.min(cam))/(np.max(cam) - np.min(cam))    # 私の自作モデルではこちらを使用\n",
    "        image = img.transpose(1, 2, 0)\n",
    "        image -= np.min(image)\n",
    "        image = np.uint8(255*image)\n",
    "        image = np.minimum(image, 255)\n",
    "        cam = cv2.applyColorMap(np.uint8(255*heatmap), cv2.COLORMAP_JET)\n",
    "        cam = np.float32(cam) + np.float32(image)\n",
    "        cam = 255 * cam / np.max(cam)\n",
    "        return np.uint8(cam)[:,:,::-1]\n",
    "    \n",
    "    def save_attention_mask(self, x, path):\n",
    "        B = x.shape[0]\n",
    "        self.forward(x)\n",
    "        x = x.cpu() * torch.Tensor([0.229, 0.224, 0.225]).reshape(-1, 1, 1)\n",
    "        x = x + torch.Tensor([0.485, 0.456, 0.406]).reshape(-1, 1, 1)\n",
    "        \n",
    "        fig, axs = plt.subplots(4, 3, figsize=(6, 8))\n",
    "        plt.axis('off')\n",
    "        for i in range(4):\n",
    "            axs[i, 0].imshow(x[i].permute(1, 2, 0))\n",
    "            axs[i, 1].imshow(self.mask_[i][0])\n",
    "            cam = self.make_cam(x[i].numpy(), self.mask_[i][0].numpy())\n",
    "            axs[i, 2].imshow(cam)\n",
    "            \n",
    "        plt.savefig(path)\n",
    "        plt.close()\n",
    "        return x, self.mask_, cam"
   ]
  },
  {
   "cell_type": "code",
   "execution_count": 5,
   "metadata": {},
   "outputs": [],
   "source": [
    "clf_loss_func = torch.nn.CrossEntropyLoss()"
   ]
  },
  {
   "cell_type": "code",
   "execution_count": 6,
   "metadata": {},
   "outputs": [
    {
     "name": "stdout",
     "output_type": "stream",
     "text": [
      "True\n"
     ]
    }
   ],
   "source": [
    "gpu_flag = torch.cuda.is_available()\n",
    "print(gpu_flag)\n",
    "if gpu_flag:\n",
    "    device = torch.device('cuda:0')\n",
    "else:\n",
    "    device = torch.device('cpu')"
   ]
  },
  {
   "cell_type": "code",
   "execution_count": 7,
   "metadata": {},
   "outputs": [],
   "source": [
    "def train(model, loader, optimizer):\n",
    "    model.train()\n",
    "    correct = 0\n",
    "    total = 0\n",
    "    losses = []\n",
    "    for X, y in tqdm(loader):\n",
    "        X, y = X.to(device), y.to(device)\n",
    "        clf = model(X)\n",
    "        loss = clf_loss_func(clf, y)\n",
    "\n",
    "        optimizer.zero_grad()\n",
    "        loss.backward()\n",
    "        optimizer.step()\n",
    "        \n",
    "        losses.append(loss.item())\n",
    "        \n",
    "        predict = clf.argmax(dim=1)\n",
    "        correct += (predict == y.data).sum()\n",
    "        total += len(y)\n",
    "    \n",
    "    return np.mean(losses), float(correct) / total"
   ]
  },
  {
   "cell_type": "code",
   "execution_count": 8,
   "metadata": {},
   "outputs": [],
   "source": [
    "def valid(model, loader):\n",
    "    model.eval()\n",
    "  \n",
    "    losses = []\n",
    "    correct = 0\n",
    "    total = 0\n",
    "    with torch.no_grad():\n",
    "        for X, y in tqdm(loader):\n",
    "            X, y = X.to(device), y.to(device)\n",
    "            clf = model(X)\n",
    "            loss = clf_loss_func(clf, y)\n",
    "\n",
    "            losses.append(loss.item())\n",
    "\n",
    "            predict = clf.argmax(dim=1)\n",
    "            correct += (predict == y).sum().item()\n",
    "            total += len(y)\n",
    "            \n",
    "    return np.mean(losses), float(correct) / total"
   ]
  },
  {
   "cell_type": "code",
   "execution_count": 9,
   "metadata": {},
   "outputs": [],
   "source": [
    "simple_model = Network(2)\n",
    "attention_model = AttentionNetwork(2)\n",
    "simple_model = simple_model.to(device)\n",
    "attention_model = attention_model.to(device)"
   ]
  },
  {
   "cell_type": "code",
   "execution_count": 10,
   "metadata": {},
   "outputs": [
    {
     "name": "stderr",
     "output_type": "stream",
     "text": [
      "100%|██████████| 79/79 [00:28<00:00,  2.79it/s]\n",
      "100%|██████████| 16/16 [00:04<00:00,  3.39it/s]\n",
      "  0%|          | 0/79 [00:00<?, ?it/s]"
     ]
    },
    {
     "name": "stdout",
     "output_type": "stream",
     "text": [
      "Epoch: 0\n",
      "train loss: 0.19, train acc: 91.86%\n",
      "val loss: 0.07, val acc: 98.20%\n"
     ]
    },
    {
     "name": "stderr",
     "output_type": "stream",
     "text": [
      "100%|██████████| 79/79 [00:28<00:00,  2.81it/s]\n",
      "100%|██████████| 16/16 [00:04<00:00,  3.47it/s]\n",
      "  0%|          | 0/79 [00:00<?, ?it/s]"
     ]
    },
    {
     "name": "stdout",
     "output_type": "stream",
     "text": [
      "Epoch: 1\n",
      "train loss: 0.06, train acc: 97.80%\n",
      "val loss: 0.05, val acc: 98.50%\n"
     ]
    },
    {
     "name": "stderr",
     "output_type": "stream",
     "text": [
      "100%|██████████| 79/79 [00:27<00:00,  2.87it/s]\n",
      "100%|██████████| 16/16 [00:04<00:00,  3.46it/s]\n",
      "  0%|          | 0/79 [00:00<?, ?it/s]"
     ]
    },
    {
     "name": "stdout",
     "output_type": "stream",
     "text": [
      "Epoch: 2\n",
      "train loss: 0.04, train acc: 98.86%\n",
      "val loss: 0.04, val acc: 98.20%\n"
     ]
    },
    {
     "name": "stderr",
     "output_type": "stream",
     "text": [
      "100%|██████████| 79/79 [00:27<00:00,  2.83it/s]\n",
      "100%|██████████| 16/16 [00:04<00:00,  3.26it/s]\n",
      "  0%|          | 0/79 [00:00<?, ?it/s]"
     ]
    },
    {
     "name": "stdout",
     "output_type": "stream",
     "text": [
      "Epoch: 3\n",
      "train loss: 0.03, train acc: 99.50%\n",
      "val loss: 0.04, val acc: 98.40%\n"
     ]
    },
    {
     "name": "stderr",
     "output_type": "stream",
     "text": [
      "100%|██████████| 79/79 [00:27<00:00,  2.88it/s]\n",
      "100%|██████████| 16/16 [00:04<00:00,  3.35it/s]"
     ]
    },
    {
     "name": "stdout",
     "output_type": "stream",
     "text": [
      "Epoch: 4\n",
      "train loss: 0.02, train acc: 99.58%\n",
      "val loss: 0.04, val acc: 98.70%\n"
     ]
    },
    {
     "name": "stderr",
     "output_type": "stream",
     "text": [
      "\n"
     ]
    }
   ],
   "source": [
    "optimizer = torch.optim.SGD(simple_model.parameters(), lr=0.001, momentum=0.9)\n",
    "\n",
    "best_loss = 1e+10\n",
    "# best_state = None\n",
    "earlystop_counter = 0\n",
    "for epoch in range(5):\n",
    "    train_loss, train_acc = train(simple_model, loader_train, optimizer)\n",
    "    val_loss, val_acc = valid(simple_model, loader_test)\n",
    "\n",
    "    if val_loss < best_loss:\n",
    "        best_loss = val_loss\n",
    "#         best_state = model.cpu().state_dict()\n",
    "    print('Epoch: {}'.format(epoch))\n",
    "    print(\"train loss: {:.2f}, train acc: {:.2f}%\".format(train_loss, train_acc*100.))\n",
    "    print(\"val loss: {:.2f}, val acc: {:.2f}%\".format(val_loss, val_acc*100.))"
   ]
  },
  {
   "cell_type": "code",
   "execution_count": 11,
   "metadata": {},
   "outputs": [
    {
     "name": "stderr",
     "output_type": "stream",
     "text": [
      "100%|██████████| 79/79 [00:27<00:00,  2.88it/s]\n",
      "100%|██████████| 16/16 [00:04<00:00,  3.48it/s]\n",
      "  0%|          | 0/79 [00:00<?, ?it/s]"
     ]
    },
    {
     "name": "stdout",
     "output_type": "stream",
     "text": [
      "Epoch: 0\n",
      "train loss: 0.28, train acc: 86.72%\n",
      "val loss: 0.07, val acc: 97.90%\n"
     ]
    },
    {
     "name": "stderr",
     "output_type": "stream",
     "text": [
      "100%|██████████| 79/79 [00:27<00:00,  2.89it/s]\n",
      "100%|██████████| 16/16 [00:04<00:00,  3.42it/s]\n",
      "  0%|          | 0/79 [00:00<?, ?it/s]"
     ]
    },
    {
     "name": "stdout",
     "output_type": "stream",
     "text": [
      "Epoch: 1\n",
      "train loss: 0.08, train acc: 96.96%\n",
      "val loss: 0.05, val acc: 98.20%\n"
     ]
    },
    {
     "name": "stderr",
     "output_type": "stream",
     "text": [
      "100%|██████████| 79/79 [00:27<00:00,  2.88it/s]\n",
      "100%|██████████| 16/16 [00:04<00:00,  3.48it/s]\n",
      "  0%|          | 0/79 [00:00<?, ?it/s]"
     ]
    },
    {
     "name": "stdout",
     "output_type": "stream",
     "text": [
      "Epoch: 2\n",
      "train loss: 0.06, train acc: 97.76%\n",
      "val loss: 0.04, val acc: 98.40%\n"
     ]
    },
    {
     "name": "stderr",
     "output_type": "stream",
     "text": [
      "100%|██████████| 79/79 [00:27<00:00,  2.87it/s]\n",
      "100%|██████████| 16/16 [00:04<00:00,  3.39it/s]\n",
      "  0%|          | 0/79 [00:00<?, ?it/s]"
     ]
    },
    {
     "name": "stdout",
     "output_type": "stream",
     "text": [
      "Epoch: 3\n",
      "train loss: 0.04, train acc: 98.62%\n",
      "val loss: 0.04, val acc: 98.80%\n"
     ]
    },
    {
     "name": "stderr",
     "output_type": "stream",
     "text": [
      "100%|██████████| 79/79 [00:27<00:00,  2.85it/s]\n",
      "100%|██████████| 16/16 [00:04<00:00,  3.48it/s]"
     ]
    },
    {
     "name": "stdout",
     "output_type": "stream",
     "text": [
      "Epoch: 4\n",
      "train loss: 0.03, train acc: 99.16%\n",
      "val loss: 0.04, val acc: 98.50%\n"
     ]
    },
    {
     "name": "stderr",
     "output_type": "stream",
     "text": [
      "\n"
     ]
    }
   ],
   "source": [
    "optimizer = torch.optim.SGD(attention_model.parameters(), lr=0.001, momentum=0.9)\n",
    "best_loss = 1e+10\n",
    "# best_state = None\n",
    "earlystop_counter = 0\n",
    "for epoch in range(5):\n",
    "    train_loss, train_acc = train(attention_model, loader_train, optimizer)\n",
    "    val_loss, val_acc = valid(attention_model, loader_test)\n",
    "\n",
    "    if val_loss < best_loss:\n",
    "        best_loss = val_loss\n",
    "#         best_state = model.cpu().state_dict()\n",
    "        \n",
    "    print('Epoch: {}'.format(epoch))\n",
    "    print(\"train loss: {:.2f}, train acc: {:.2f}%\".format(train_loss, train_acc*100.))\n",
    "    print(\"val loss: {:.2f}, val acc: {:.2f}%\".format(val_loss, val_acc*100.))"
   ]
  },
  {
   "cell_type": "code",
   "execution_count": 12,
   "metadata": {},
   "outputs": [],
   "source": [
    "for img, target in loader_test:\n",
    "    img = img.to(device)\n",
    "    imgs, masks, cams = attention_model.save_attention_mask(img, os.path.join('.', 'out.png'))\n",
    "    break"
   ]
  },
  {
   "cell_type": "code",
   "execution_count": null,
   "metadata": {},
   "outputs": [],
   "source": []
  }
 ],
 "metadata": {
  "kernelspec": {
   "display_name": "Python 3",
   "language": "python",
   "name": "python3"
  },
  "language_info": {
   "codemirror_mode": {
    "name": "ipython",
    "version": 3
   },
   "file_extension": ".py",
   "mimetype": "text/x-python",
   "name": "python",
   "nbconvert_exporter": "python",
   "pygments_lexer": "ipython3",
   "version": "3.5.2"
  },
  "toc": {
   "base_numbering": 1,
   "nav_menu": {},
   "number_sections": true,
   "sideBar": true,
   "skip_h1_title": false,
   "title_cell": "Table of Contents",
   "title_sidebar": "Contents",
   "toc_cell": false,
   "toc_position": {},
   "toc_section_display": true,
   "toc_window_display": false
  }
 },
 "nbformat": 4,
 "nbformat_minor": 2
}
